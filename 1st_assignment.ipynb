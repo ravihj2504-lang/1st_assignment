{
  "nbformat": 4,
  "nbformat_minor": 0,
  "metadata": {
    "colab": {
      "provenance": []
    },
    "kernelspec": {
      "name": "python3",
      "display_name": "Python 3"
    },
    "language_info": {
      "name": "python"
    }
  },
  "cells": [
    {
      "cell_type": "code",
      "execution_count": null,
      "metadata": {
        "id": "WK3oww_XlBW-"
      },
      "outputs": [],
      "source": []
    },
    {
      "cell_type": "markdown",
      "source": [
        "#python basic"
      ],
      "metadata": {
        "id": "b1-OlrQelm0q"
      }
    },
    {
      "cell_type": "markdown",
      "source": [
        "#1.What is python and why it is popular?\n",
        "   - Python is a high level programing language known for it's smplicity.\n",
        "   Python is easy to understanding programming language its means the beginer can also use python language."
      ],
      "metadata": {
        "id": "19-riRTRmHLS"
      }
    },
    {
      "cell_type": "markdown",
      "source": [
        "#2.What is interpreter in python?\n",
        "  - Python is an interpreted language developed by Guido van Rossum in the year of 1991. As we all know Python is one of the most high-level languages used today because of its massive versatility and portable library & framework features. It is an interpreted language because it executes line-by-line instructions\n",
        "  "
      ],
      "metadata": {
        "id": "TMz02z-sniNC"
      }
    },
    {
      "cell_type": "markdown",
      "source": [],
      "metadata": {
        "id": "dNOP_IAWoNZz"
      }
    },
    {
      "cell_type": "markdown",
      "source": [
        "#  3. What are the pre-define key words in python?\n",
        "\n",
        "- if\n",
        "- if else\n",
        "\n",
        "- and\n",
        "\n",
        "- or\n",
        "- none\n",
        "- import\n",
        "- break\n",
        "- is\n",
        "- lamda\n",
        "- continue\n",
        "\n",
        "\n"
      ],
      "metadata": {
        "id": "Red0XqPeqec5"
      }
    },
    {
      "cell_type": "markdown",
      "source": [
        "# 4. Can key words use as a variable names?\n",
        "\n",
        "  - yes"
      ],
      "metadata": {
        "id": "vre_DwtKrj2e"
      }
    },
    {
      "cell_type": "markdown",
      "source": [
        "# 5. What is mutability in python?\n",
        "- Mutability in python means we can modify our data after creating such as we can add the value,remove the value.\n",
        "- example such as **LIST**"
      ],
      "metadata": {
        "id": "NCz09I1hskmJ"
      }
    },
    {
      "cell_type": "markdown",
      "source": [],
      "metadata": {
        "id": "0GgM-K40teuD"
      }
    },
    {
      "cell_type": "markdown",
      "source": [
        "# 6. Why are lists mutable but tuple are unmutable ?\n",
        "\n",
        "-  Mutability in python means we can modify our data after creating such as we can add the value,remove the value.\n",
        "- List is unmutable which means it cant be edit after it has been created.\n",
        "\n"
      ],
      "metadata": {
        "id": "RepqnXmqdEeP"
      }
    },
    {
      "cell_type": "markdown",
      "source": [
        "7.What is the difference between\"==\" and \"is\" operation in python\n",
        "-\n",
        "\n",
        "- In python \"==\" operation and \"is\" operation both are us eto comparison, but they both serves different pourpose:\n",
        "\n",
        "- **\"==**\"(equal operation) This operation is use to compare the two values\n",
        "- **\"Is\"**  This opertaion compares the identity of two object.it evaluates wether two variables refer to same object in memory.\n"
      ],
      "metadata": {
        "id": "ISIR5diFMi9c"
      }
    },
    {
      "cell_type": "markdown",
      "source": [
        "8.What are the logical operations in python ?\n",
        "-\n",
        "- AND\n",
        "- OR\n",
        "-  NOT"
      ],
      "metadata": {
        "id": "1DeyDZfkQzlR"
      }
    },
    {
      "cell_type": "markdown",
      "source": [],
      "metadata": {
        "id": "0llKzTuFRGhZ"
      }
    },
    {
      "cell_type": "markdown",
      "source": [
        "#9. What are type casting in python ?\n",
        "- Type casting in python also known astype conversion refers to the process of converting a variable from one data to another.\n",
        "\n",
        "\n",
        "**THERE ARE TWO MAIN TYPE OF TYPE CASTING**\n",
        "\n",
        "\n",
        "\n",
        "\n",
        "* **EXPLICIT**\n",
        "* **IMPLICIT**\n",
        "\n",
        "\n",
        "\n",
        "\n",
        "\n",
        "\n"
      ],
      "metadata": {
        "id": "fMzJwFofUG93"
      }
    },
    {
      "cell_type": "markdown",
      "source": [
        "#10. What is different between explicit and implicit ?\n",
        "- **Explicit**:This involves explicitly converting a variable data type using build-in function provided by python.\n",
        "- **Implicit**: In implicit type casting the program automaticaly converts the data from one to another."
      ],
      "metadata": {
        "id": "b0UBqG_GXFPo"
      }
    },
    {
      "cell_type": "markdown",
      "source": [
        "#11. What is the pourpose of conditional statement in python ?\n",
        "\n",
        "- Conditional statements in Python are used to execute certain blocks of code based on specific conditions. These statements help control the flow of a program, making it behave differently in different situations.\n",
        "\n",
        " - **There are different statement**\n",
        "- **IF**\n",
        "- **IF-else**\n",
        "-** ELIF**\n"
      ],
      "metadata": {
        "id": "SjGyRA_Hjv4f"
      }
    },
    {
      "cell_type": "markdown",
      "source": [],
      "metadata": {
        "id": "DRFHD2iuW91-"
      }
    },
    {
      "cell_type": "markdown",
      "source": [
        "#12. How does the elif ststement works ?\\\n",
        "- The elif statement in Python allows you to check multiple conditions in a sequence, executing the block of code associated with the first true condition.\n"
      ],
      "metadata": {
        "id": "ndkX9Urklf0j"
      }
    },
    {
      "cell_type": "markdown",
      "source": [
        "#13. What is the difference between for and while loop ?\n",
        "- Both for loops and while loops are control flow structures in programming that allow you to repeatedly execute a block of code. However, they differ in their syntax and use cases. It is important for a beginner to know the key differences between both of them.\n",
        "\n"
      ],
      "metadata": {
        "id": "lg3b2jtwl5Wr"
      }
    },
    {
      "cell_type": "markdown",
      "source": [
        "#14. describe the loop where while loop is more sutaible then for loop  ?\n",
        "-  "
      ],
      "metadata": {
        "id": "BYV5ZoMkmdmy"
      }
    },
    {
      "cell_type": "markdown",
      "source": [
        "#**PRATICAL QUESTION**"
      ],
      "metadata": {
        "id": "RhOjbQjUmxhj"
      }
    },
    {
      "cell_type": "markdown",
      "source": [
        "#1 Write a codeto print \"Hello,World\""
      ],
      "metadata": {
        "id": "Q2FDhhmdnI3D"
      }
    },
    {
      "cell_type": "code",
      "source": [
        "print(\"hello,world\")"
      ],
      "metadata": {
        "colab": {
          "base_uri": "https://localhost:8080/"
        },
        "id": "6pfnNrZpnVxn",
        "outputId": "0c0a8fad-9dfd-4eaf-8967-4ea850521f34"
      },
      "execution_count": null,
      "outputs": [
        {
          "output_type": "stream",
          "name": "stdout",
          "text": [
            "hello,world\n"
          ]
        }
      ]
    },
    {
      "cell_type": "markdown",
      "source": [
        "#2. Write a code to disply your name and age"
      ],
      "metadata": {
        "id": "vnQ42mrbnmEX"
      }
    },
    {
      "cell_type": "code",
      "source": [
        "name=\"Ravi\"\n",
        "age=21\n",
        "print(f\"my name is {name} and my age is {age}\")"
      ],
      "metadata": {
        "colab": {
          "base_uri": "https://localhost:8080/"
        },
        "id": "M2zjUaZuntkC",
        "outputId": "d403c3d4-d54e-40a4-8ff7-166de709467c"
      },
      "execution_count": null,
      "outputs": [
        {
          "output_type": "stream",
          "name": "stdout",
          "text": [
            "my name is Ravi and my age is 21\n"
          ]
        }
      ]
    },
    {
      "cell_type": "markdown",
      "source": [
        "#3 . Write code to print all the pre-defined keywords in Python using the keyword library"
      ],
      "metadata": {
        "id": "hxh-hLBnohAX"
      }
    },
    {
      "cell_type": "code",
      "source": [
        "import keyword\n",
        "print(keyword.kwlist)\n"
      ],
      "metadata": {
        "colab": {
          "base_uri": "https://localhost:8080/"
        },
        "id": "E5G8L2GSpdWe",
        "outputId": "b8960d77-c4f5-4255-bf10-f185d96b575c"
      },
      "execution_count": null,
      "outputs": [
        {
          "output_type": "stream",
          "name": "stdout",
          "text": [
            "['False', 'None', 'True', 'and', 'as', 'assert', 'async', 'await', 'break', 'class', 'continue', 'def', 'del', 'elif', 'else', 'except', 'finally', 'for', 'from', 'global', 'if', 'import', 'in', 'is', 'lambda', 'nonlocal', 'not', 'or', 'pass', 'raise', 'return', 'try', 'while', 'with', 'yield']\n"
          ]
        }
      ]
    },
    {
      "cell_type": "markdown",
      "source": [
        "#4Write a program that checks if a given word is a Python keyword."
      ],
      "metadata": {
        "id": "WRm4cx4BpiSh"
      }
    },
    {
      "cell_type": "code",
      "source": [
        "import keyword\n",
        "word = input(\"Enter a word: \")\n",
        "if keyword.iskeyword(word):\n",
        "    print(f\"{word} is a Python keyword.\")\n",
        "else:\n",
        "    print(f\"{word} is not a Python keyword.\")\n"
      ],
      "metadata": {
        "colab": {
          "base_uri": "https://localhost:8080/"
        },
        "id": "izE6A7JPpkDc",
        "outputId": "583f287a-78dd-4e86-e1b1-fc180e453014"
      },
      "execution_count": null,
      "outputs": [
        {
          "output_type": "stream",
          "name": "stdout",
          "text": [
            "Enter a word: if\n",
            "if is a Python keyword.\n"
          ]
        }
      ]
    },
    {
      "cell_type": "markdown",
      "source": [
        "#5. Create a list and tuple in Python, and demonstrate how attempting to change an element works differently for each."
      ],
      "metadata": {
        "id": "Wg_kUNa-pxml"
      }
    },
    {
      "cell_type": "code",
      "source": [
        "# List example\n",
        "my_list = [1, 2, 3]\n",
        "my_list[0] = 10  # Can change element in list\n",
        "print(my_list)\n",
        "\n",
        "# Tuple example\n",
        "my_tuple = (1, 2, 3)\n",
        "try:\n",
        "    my_tuple[0] = 10  # Cannot change element in tuple\n",
        "except TypeError as e:\n",
        "    print(\"Error:\", e)\n"
      ],
      "metadata": {
        "id": "TxwRc7WOpzM6",
        "colab": {
          "base_uri": "https://localhost:8080/"
        },
        "outputId": "6ed0465e-7084-4ec3-dcef-1b5e1d691647"
      },
      "execution_count": null,
      "outputs": [
        {
          "output_type": "stream",
          "name": "stdout",
          "text": [
            "[10, 2, 3]\n",
            "Error: 'tuple' object does not support item assignment\n"
          ]
        }
      ]
    },
    {
      "cell_type": "markdown",
      "source": [
        "#6. Write a function to demonstrate the behavior of mutable and immutable arguments."
      ],
      "metadata": {
        "id": "sx_YtljTqTZV"
      }
    },
    {
      "cell_type": "code",
      "source": [
        "def test_mutable_immutable(mutable, immutable):\n",
        "    mutable.append(4)  # Mutable can be modified\n",
        "    try:\n",
        "        immutable[0] = 100  # Immutable cannot be modified\n",
        "    except TypeError as e:\n",
        "        print(\"Error:\", e)\n",
        "\n",
        "\n",
        "my_list = [1, 2, 3]\n",
        "my_tuple = (1, 2, 3)\n",
        "test_mutable_immutable(my_list, my_tuple)\n",
        "print(\"Mutable:\", my_list)\n",
        "print(\"Immutable:\", my_tuple)\n"
      ],
      "metadata": {
        "colab": {
          "base_uri": "https://localhost:8080/"
        },
        "id": "AITTvogSqmf8",
        "outputId": "32b52649-b341-42cc-bed5-c57b964215d9"
      },
      "execution_count": null,
      "outputs": [
        {
          "output_type": "stream",
          "name": "stdout",
          "text": [
            "Error: 'tuple' object does not support item assignment\n",
            "Mutable: [1, 2, 3, 4]\n",
            "Immutable: (1, 2, 3)\n"
          ]
        }
      ]
    },
    {
      "cell_type": "markdown",
      "source": [
        "#7. Basic Arithmetic Operations\n",
        "\n"
      ],
      "metadata": {
        "id": "sXu_bgTmwAh6"
      }
    },
    {
      "cell_type": "code",
      "source": [
        "a = int(input(\"Enter first number: \"))\n",
        "b = int(input(\"Enter second number: \"))\n",
        "\n",
        "print(\"Addition:\", a + b)\n",
        "print(\"Subtraction:\", a - b)\n",
        "print(\"Multiplication:\", a * b)\n",
        "print(\"Division:\", a / b)"
      ],
      "metadata": {
        "colab": {
          "base_uri": "https://localhost:8080/"
        },
        "id": "W2Oo8Hq8wdby",
        "outputId": "2077bcf6-f855-4f46-fd2e-9b45c2173814"
      },
      "execution_count": null,
      "outputs": [
        {
          "output_type": "stream",
          "name": "stdout",
          "text": [
            "Enter first number: 20\n",
            "Enter second number: 2\n",
            "Addition: 22\n",
            "Subtraction: 18\n",
            "Multiplication: 40\n",
            "Division: 10.0\n"
          ]
        }
      ]
    },
    {
      "cell_type": "markdown",
      "source": [
        "#8 . Logical Operators"
      ],
      "metadata": {
        "id": "uTbnme1XwvQ0"
      }
    },
    {
      "cell_type": "code",
      "source": [
        "a = True\n",
        "b = False\n",
        "\n",
        "print(\"a and b:\", a and b)\n",
        "print(\"a or b:\", a or b)\n",
        "print(\"not a:\", not a)\n"
      ],
      "metadata": {
        "id": "LWz6LSoOw4Om",
        "colab": {
          "base_uri": "https://localhost:8080/"
        },
        "outputId": "f75688da-bbac-4be6-872a-f8f4eee72724"
      },
      "execution_count": 8,
      "outputs": [
        {
          "output_type": "stream",
          "name": "stdout",
          "text": [
            "a and b: False\n",
            "a or b: True\n",
            "not a: False\n"
          ]
        }
      ]
    },
    {
      "cell_type": "markdown",
      "source": [
        "#9. Convert user input to int, float, and bool"
      ],
      "metadata": {
        "id": "aaV-vb2_w_-E"
      }
    },
    {
      "cell_type": "code",
      "source": [
        "s = input(\"Enter a value: \")\n",
        "\n",
        "int_value = int(s)\n",
        "float_value = float(s)\n",
        "bool_value = bool(int_value)\n",
        "\n",
        "print(\"Integer:\", int_value)\n",
        "print(\"Float:\", float_value)\n",
        "print(\"Boolean:\", bool_value)\n"
      ],
      "metadata": {
        "id": "aSzpHJNJxHWm",
        "colab": {
          "base_uri": "https://localhost:8080/"
        },
        "outputId": "3a96bc96-9fc0-4acd-ac1c-f2a835c71272"
      },
      "execution_count": 7,
      "outputs": [
        {
          "output_type": "stream",
          "name": "stdout",
          "text": [
            "Enter a value: 58\n",
            "Integer: 58\n",
            "Float: 58.0\n",
            "Boolean: True\n"
          ]
        }
      ]
    },
    {
      "cell_type": "markdown",
      "source": [
        "#10.  Type casting with list elements"
      ],
      "metadata": {
        "id": "daSLh4rzxnvE"
      }
    },
    {
      "cell_type": "code",
      "source": [
        "my_list = ['1', '2', '3']\n",
        "int_list = [int(x) for x in my_list]\n",
        "print(\"Converted list:\", int_list)\n"
      ],
      "metadata": {
        "id": "qJOyRj72xvP9",
        "colab": {
          "base_uri": "https://localhost:8080/"
        },
        "outputId": "bf96a54c-ba8b-4536-ac55-70fa124692a1"
      },
      "execution_count": 6,
      "outputs": [
        {
          "output_type": "stream",
          "name": "stdout",
          "text": [
            "Converted list: [1, 2, 3]\n"
          ]
        }
      ]
    },
    {
      "cell_type": "markdown",
      "source": [
        "#11. Check if number is positive, negative, or zero"
      ],
      "metadata": {
        "id": "evKx3l5Lx3uX"
      }
    },
    {
      "cell_type": "code",
      "source": [
        "num = float(input(\"Enter a number: \"))\n",
        "\n",
        "if num > 0:\n",
        "    print(\"Positive number\")\n",
        "elif num < 0:\n",
        "    print(\"Negative number\")\n",
        "else:\n",
        "    print(\"Zero\")\n"
      ],
      "metadata": {
        "id": "bi7ZMFN3x-er",
        "colab": {
          "base_uri": "https://localhost:8080/"
        },
        "outputId": "47c95a6f-586d-4c25-8091-fc134df9134c"
      },
      "execution_count": 5,
      "outputs": [
        {
          "output_type": "stream",
          "name": "stdout",
          "text": [
            "Enter a number: 12\n",
            "Positive number\n"
          ]
        }
      ]
    },
    {
      "cell_type": "markdown",
      "source": [
        "#12. For loop to print 1 to 10"
      ],
      "metadata": {
        "id": "hyGKkGRWyLl9"
      }
    },
    {
      "cell_type": "code",
      "source": [
        "for i in range(1, 11):\n",
        "    print(i)\n"
      ],
      "metadata": {
        "colab": {
          "base_uri": "https://localhost:8080/"
        },
        "id": "_8WsRW89yQxL",
        "outputId": "a1167727-7f74-41e5-a65b-12846741d79f"
      },
      "execution_count": 2,
      "outputs": [
        {
          "output_type": "stream",
          "name": "stdout",
          "text": [
            "1\n",
            "2\n",
            "3\n",
            "4\n",
            "5\n",
            "6\n",
            "7\n",
            "8\n",
            "9\n",
            "10\n"
          ]
        }
      ]
    },
    {
      "cell_type": "markdown",
      "source": [
        "#13. Sum of all even numbers from 1 to 50"
      ],
      "metadata": {
        "id": "bCW3c4qOyYEY"
      }
    },
    {
      "cell_type": "code",
      "source": [
        "total = 0\n",
        "for i in range(2, 51, 2):\n",
        "    total += i\n",
        "print(\"Sum of even numbers from 1 to 50:\", total)\n"
      ],
      "metadata": {
        "colab": {
          "base_uri": "https://localhost:8080/"
        },
        "id": "ruXxZvzWyZgt",
        "outputId": "b7692b08-b1f0-4128-a4d1-5301d6cb4850"
      },
      "execution_count": 4,
      "outputs": [
        {
          "output_type": "stream",
          "name": "stdout",
          "text": [
            "Sum of even numbers from 1 to 50: 650\n"
          ]
        }
      ]
    },
    {
      "cell_type": "markdown",
      "source": [
        "#14. Reverse a string using a while loop"
      ],
      "metadata": {
        "id": "dFaCsQ2XyeyG"
      }
    },
    {
      "cell_type": "code",
      "source": [
        "s = input(\"Enter a string: \")\n",
        "reversed_s = \"\"\n",
        "i = len(s) - 1\n",
        "\n",
        "while i >= 0:\n",
        "    reversed_s += s[i]\n",
        "    i -= 1\n",
        "\n",
        "print(\"Reversed string:\", reversed_s)\n"
      ],
      "metadata": {
        "colab": {
          "base_uri": "https://localhost:8080/"
        },
        "id": "t6pp2QxmymMj",
        "outputId": "e8c6baad-b8a0-4387-8246-61f4f483a0dd"
      },
      "execution_count": 3,
      "outputs": [
        {
          "output_type": "stream",
          "name": "stdout",
          "text": [
            "Enter a string: ravikiran\n",
            "Reversed string: narikivar\n"
          ]
        }
      ]
    },
    {
      "cell_type": "markdown",
      "source": [
        "#15. Factorial using a while loop"
      ],
      "metadata": {
        "id": "Jora_vxXy4YC"
      }
    },
    {
      "cell_type": "code",
      "source": [],
      "metadata": {
        "id": "gp-xHjVpzCaR"
      },
      "execution_count": null,
      "outputs": []
    }
  ]
}